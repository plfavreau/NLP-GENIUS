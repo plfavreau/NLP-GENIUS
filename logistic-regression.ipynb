{
  "nbformat": 4,
  "nbformat_minor": 0,
  "metadata": {
    "colab": {
      "provenance": []
    },
    "kernelspec": {
      "name": "python3",
      "display_name": "Python 3"
    },
    "language_info": {
      "name": "python"
    }
  },
  "cells": [
    {
      "cell_type": "code",
      "source": [
        "!pip install kaggle\n"
      ],
      "metadata": {
        "colab": {
          "base_uri": "https://localhost:8080/"
        },
        "id": "4iVWgPQFOHgW",
        "outputId": "7a53c5c4-6958-4142-8635-3c159868463e"
      },
      "execution_count": 1,
      "outputs": [
        {
          "output_type": "stream",
          "name": "stdout",
          "text": [
            "Requirement already satisfied: kaggle in /usr/local/lib/python3.10/dist-packages (1.5.16)\n",
            "Requirement already satisfied: six>=1.10 in /usr/local/lib/python3.10/dist-packages (from kaggle) (1.16.0)\n",
            "Requirement already satisfied: certifi in /usr/local/lib/python3.10/dist-packages (from kaggle) (2024.2.2)\n",
            "Requirement already satisfied: python-dateutil in /usr/local/lib/python3.10/dist-packages (from kaggle) (2.8.2)\n",
            "Requirement already satisfied: requests in /usr/local/lib/python3.10/dist-packages (from kaggle) (2.31.0)\n",
            "Requirement already satisfied: tqdm in /usr/local/lib/python3.10/dist-packages (from kaggle) (4.66.2)\n",
            "Requirement already satisfied: python-slugify in /usr/local/lib/python3.10/dist-packages (from kaggle) (8.0.4)\n",
            "Requirement already satisfied: urllib3 in /usr/local/lib/python3.10/dist-packages (from kaggle) (2.0.7)\n",
            "Requirement already satisfied: bleach in /usr/local/lib/python3.10/dist-packages (from kaggle) (6.1.0)\n",
            "Requirement already satisfied: webencodings in /usr/local/lib/python3.10/dist-packages (from bleach->kaggle) (0.5.1)\n",
            "Requirement already satisfied: text-unidecode>=1.3 in /usr/local/lib/python3.10/dist-packages (from python-slugify->kaggle) (1.3)\n",
            "Requirement already satisfied: charset-normalizer<4,>=2 in /usr/local/lib/python3.10/dist-packages (from requests->kaggle) (3.3.2)\n",
            "Requirement already satisfied: idna<4,>=2.5 in /usr/local/lib/python3.10/dist-packages (from requests->kaggle) (3.6)\n"
          ]
        }
      ]
    },
    {
      "cell_type": "code",
      "execution_count": 2,
      "metadata": {
        "id": "dcAYt-NFI28R"
      },
      "outputs": [],
      "source": [
        "import pandas as pd\n",
        "import random\n",
        "from google.colab import userdata\n",
        "import os\n",
        "from sklearn.feature_extraction.text import CountVectorizer\n",
        "from sklearn.pipeline import make_pipeline\n",
        "from sklearn.preprocessing import StandardScaler\n",
        "from sklearn.linear_model import LogisticRegression\n",
        "from sklearn.model_selection import train_test_split\n"
      ]
    },
    {
      "cell_type": "code",
      "source": [
        "os.environ[\"KAGGLE_KEY\"] = userdata.get('KAGGLE_KEY')\n",
        "os.environ[\"KAGGLE_USERNAME\"] = userdata.get('KAGGLE_USERNAME')\n",
        "!kaggle datasets download -d carlosgdcj/genius-song-lyrics-with-language-information\n"
      ],
      "metadata": {
        "id": "RXBza5RUMftF",
        "outputId": "cbdb9740-4465-463a-8c8e-60011f0e89ef",
        "colab": {
          "base_uri": "https://localhost:8080/"
        }
      },
      "execution_count": 3,
      "outputs": [
        {
          "output_type": "stream",
          "name": "stdout",
          "text": [
            "Downloading genius-song-lyrics-with-language-information.zip to /content\n",
            "100% 3.03G/3.04G [00:35<00:00, 149MB/s]\n",
            "100% 3.04G/3.04G [00:36<00:00, 90.6MB/s]\n"
          ]
        }
      ]
    },
    {
      "cell_type": "code",
      "source": [
        "!unzip genius-song-lyrics-with-language-information.zip\n"
      ],
      "metadata": {
        "colab": {
          "base_uri": "https://localhost:8080/"
        },
        "id": "cKdXPFkRWXdj",
        "outputId": "2b9576b9-50d9-45d3-f56f-870f37f775e2"
      },
      "execution_count": 4,
      "outputs": [
        {
          "output_type": "stream",
          "name": "stdout",
          "text": [
            "Archive:  genius-song-lyrics-with-language-information.zip\n",
            "  inflating: song_lyrics.csv         \n"
          ]
        }
      ]
    },
    {
      "cell_type": "code",
      "source": [
        "# n = 100 every 100th line = 1% of the lines 50 000 lines taken\n",
        "df = pd.read_csv(\"song_lyrics.csv\", skiprows=lambda i: i % 100 != 0)"
      ],
      "metadata": {
        "id": "0_-fR8pRVFrC"
      },
      "execution_count": 5,
      "outputs": []
    },
    {
      "cell_type": "code",
      "source": [
        "# Filter for only music tagged data, in english, and we want only title, lyrics and tags for the moments ...\n",
        "print(df.index)\n",
        "df = df[df['tag'] != 'misc']\n",
        "if 'language' in df.columns:\n",
        "    df = df[df['language'] == 'en']\n",
        "df = df[['title', 'lyrics', 'tag']]\n",
        "df.reset_index(drop=True, inplace=True)\n",
        "# To shuffle randomnly datas\n",
        "df = df.sample(frac = 1)\n",
        "print(df)\n",
        "# Si besoin : convertion des types\n",
        "# df.info()\n",
        "# df[\"colonne\"].dtype\n",
        "# df[\"colonne\"] = df[\"colonne\"].astype(str)\n",
        "\n"
      ],
      "metadata": {
        "colab": {
          "base_uri": "https://localhost:8080/"
        },
        "id": "v5FMy0qwI5IF",
        "outputId": "92aa90c7-c44f-4f15-8e41-2deef8861fd3"
      },
      "execution_count": 22,
      "outputs": [
        {
          "output_type": "stream",
          "name": "stdout",
          "text": [
            "Int64Index([24718, 12816, 20450,  4158,  7747, 30447, 27574, 30756, 11817,\n",
            "            13665,\n",
            "            ...\n",
            "            20020, 21675,  4677,  7784, 22054, 26287, 13149, 13505,  1621,\n",
            "            22415],\n",
            "           dtype='int64', length=32100)\n",
            "                        title  \\\n",
            "25840                    More   \n",
            "2048        Cool and Bendable   \n",
            "17666               1 by 1 XO   \n",
            "13181         Cherokee Louise   \n",
            "11559                Valhalla   \n",
            "...                       ...   \n",
            "19303           Up Like Trump   \n",
            "22768           I Wont Get In   \n",
            "18417        Travis Touchdown   \n",
            "94     Trail Of Broken Hearts   \n",
            "3068             Bonjojo Bars   \n",
            "\n",
            "                                                  lyrics   tag  \n",
            "25840  I just wanna talk about you. A little bit more...   pop  \n",
            "2048   [Verse 1]\\nI would like something special\\nI w...   pop  \n",
            "17666  Oh you think you got me\\nCause my love will ne...   rap  \n",
            "13181  [Verse 1]\\nCherokee Louise is hiding in this t...  rock  \n",
            "11559  Sleet, waves, lightning and thunder\\nScarfaces...   pop  \n",
            "...                                                  ...   ...  \n",
            "19303  [Intro: Swae Lee]\\nUp like Donald Trump, up\\nW...   rap  \n",
            "22768  [Verse 1]\\nOh lord forgive me\\nIʼve been a foo...    rb  \n",
            "18417  [Hook][x2]\\nHow the fuck did I end up in a Hum...   rap  \n",
            "94     You don't have to answer any more questions no...   pop  \n",
            "3068   Literacy is way low\\nYour bitches panties are ...   rap  \n",
            "\n",
            "[32100 rows x 3 columns]\n"
          ]
        }
      ]
    },
    {
      "cell_type": "code",
      "source": [
        "\n",
        "# Split the data into features (X) and labels (Y)\n",
        "X = df['lyrics']\n",
        "Y = df['tag']\n",
        "\n",
        "# Split the data into training and test sets (80% training, 20% test)\n",
        "X_train, X_test, Y_train, Y_test = train_test_split(X, Y, test_size=0.2, random_state=42)\n",
        "\n"
      ],
      "metadata": {
        "id": "lBuJ_QhDz2FA"
      },
      "execution_count": 23,
      "outputs": []
    },
    {
      "cell_type": "code",
      "source": [
        "# Define a StandardScaler\n",
        "scaler = StandardScaler(with_mean=False)\n",
        "\n",
        "# Create a pipeline with CountVectorizer, StandardScaler, and logistic regression\n",
        "model = make_pipeline(CountVectorizer(ngram_range=(1, 1)), scaler, LogisticRegression(max_iter=3000))\n",
        "\n",
        "# Train the model\n",
        "model.fit(X_train, Y_train)\n",
        "\n",
        "# Evaluate the model\n",
        "accuracy = model.score(X_test, Y_test)\n",
        "print(\"Accuracy:\", accuracy)"
      ],
      "metadata": {
        "colab": {
          "base_uri": "https://localhost:8080/"
        },
        "id": "k6WEHzZM3F3R",
        "outputId": "544ab690-3e35-4000-b8ac-4e9457e026ad"
      },
      "execution_count": 24,
      "outputs": [
        {
          "output_type": "stream",
          "name": "stdout",
          "text": [
            "Accuracy: 0.5404984423676013\n"
          ]
        }
      ]
    },
    {
      "cell_type": "code",
      "source": [
        "from sklearn.metrics import accuracy_score\n",
        "df_test = pd.read_csv(\"song_lyrics.csv\", skiprows=lambda i: i % 977 != 0 , nrows=10) # Change here to test different values\n",
        "\n",
        "df_test = df_test[df_test['tag'] != 'misc']\n",
        "if 'language' in df_test.columns:\n",
        "    df_test = df_test[df_test['language'] == 'en']\n",
        "df_test = df_test[['title', 'lyrics', 'tag']]\n",
        "df_test.reset_index(drop=True, inplace=True)\n",
        "\n",
        "for song_name, song_lyrics, song_tag in zip(df_test['title'], df_test['lyrics'], df_test['tag']):\n",
        "    print(\"Song:\", song_name)\n",
        "    print(\"Tag:\", song_tag)\n",
        "    # Convert the lyrics to a list and predict probabilities\n",
        "    probabilities = model.predict_proba([song_lyrics])\n",
        "\n",
        "    # Print the distribution of probabilities\n",
        "    print(\"Distribution of Probabilities:\")\n",
        "    for class_label, probability in zip(model.classes_, probabilities[0]):\n",
        "        if(probability > 0.0001):\n",
        "          print(f\"{class_label}: {probability:.4f}\")\n",
        "    max_prob_index = probabilities.argmax()\n",
        "    predicted_class = model.classes_[max_prob_index]\n",
        "    if predicted_class != song_tag:\n",
        "        print(f'Model failed to predict. Actual tag is {song_tag}, predicted tag is {predicted_class}')\n",
        "    print()\n"
      ],
      "metadata": {
        "colab": {
          "base_uri": "https://localhost:8080/"
        },
        "id": "06o9NsaP-pgG",
        "outputId": "da5e31ad-d6e7-4899-a5a8-82b1b2cedcfd"
      },
      "execution_count": 53,
      "outputs": [
        {
          "output_type": "stream",
          "name": "stdout",
          "text": [
            "Song: Verbal Intercourse\n",
            "tag: rap\n",
            "Distribution of Probabilities:\n",
            "rap: 1.0000\n",
            "\n",
            "Song: Friends and Neighbors\n",
            "tag: rap\n",
            "Distribution of Probabilities:\n",
            "pop: 0.8131\n",
            "rap: 0.0821\n",
            "rb: 0.1048\n",
            "Model failed to predict. Actual tag is rap, predicted tag is pop\n",
            "\n",
            "Song: The Rabbit Hole\n",
            "tag: rap\n",
            "Distribution of Probabilities:\n",
            "pop: 0.9994\n",
            "rap: 0.0006\n",
            "Model failed to predict. Actual tag is rap, predicted tag is pop\n",
            "\n",
            "Song: Ok Youre Right\n",
            "tag: rap\n",
            "Distribution of Probabilities:\n",
            "pop: 0.0002\n",
            "rap: 0.9982\n",
            "rb: 0.0016\n",
            "\n",
            "Song: Move Back\n",
            "tag: rap\n",
            "Distribution of Probabilities:\n",
            "rap: 1.0000\n",
            "\n",
            "Song: Beneath the Surface\n",
            "tag: rap\n",
            "Distribution of Probabilities:\n",
            "rap: 1.0000\n",
            "\n",
            "Song: 7A3 Will Rock You\n",
            "tag: rap\n",
            "Distribution of Probabilities:\n",
            "rap: 1.0000\n",
            "\n",
            "Song: Lights Out Partys Over\n",
            "tag: rap\n",
            "Distribution of Probabilities:\n",
            "rap: 1.0000\n",
            "\n",
            "Song: Its On All Day\n",
            "tag: rap\n",
            "Distribution of Probabilities:\n",
            "pop: 0.9963\n",
            "rap: 0.0037\n",
            "Model failed to predict. Actual tag is rap, predicted tag is pop\n",
            "\n",
            "Song: Cameo Afro\n",
            "tag: rap\n",
            "Distribution of Probabilities:\n",
            "rap: 0.9949\n",
            "rock: 0.0050\n",
            "\n"
          ]
        }
      ]
    }
  ]
}