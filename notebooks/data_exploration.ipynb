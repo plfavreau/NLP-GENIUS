{
 "cells": [
  {
   "cell_type": "code",
   "execution_count": 5,
   "metadata": {},
   "outputs": [],
   "source": [
    "import pandas as pd\n",
    "data = pd.read_csv(\"data/song_lyrics.csv\", usecols=['title', 'lyrics', 'language_cld3'])\n",
    "data = data.loc[data['language_cld3'] == 'en']\n",
    "data = data.drop(columns=['language_cld3'])\n",
    "data = data.sample(frac=0.01)"
   ]
  },
  {
   "cell_type": "code",
   "execution_count": 6,
   "metadata": {},
   "outputs": [],
   "source": [
    "from ydata_profiling import ProfileReport\n",
    "\n",
    "profile = ProfileReport(data, title=\"Profiling Report\")\n"
   ]
  },
  {
   "cell_type": "code",
   "execution_count": null,
   "metadata": {},
   "outputs": [],
   "source": [
    "profile.to_notebook_iframe()"
   ]
  },
  {
   "cell_type": "code",
   "execution_count": 7,
   "metadata": {},
   "outputs": [
    {
     "data": {
      "application/vnd.jupyter.widget-view+json": {
       "model_id": "bd32c33c13e14e7e864a67cd597d1491",
       "version_major": 2,
       "version_minor": 0
      },
      "text/plain": [
       "Summarize dataset:   0%|          | 0/5 [00:00<?, ?it/s]"
      ]
     },
     "metadata": {},
     "output_type": "display_data"
    },
    {
     "data": {
      "application/vnd.jupyter.widget-view+json": {
       "model_id": "4fb49ae17c914edaa5660129777bced8",
       "version_major": 2,
       "version_minor": 0
      },
      "text/plain": [
       "Generate report structure:   0%|          | 0/1 [00:00<?, ?it/s]"
      ]
     },
     "metadata": {},
     "output_type": "display_data"
    },
    {
     "data": {
      "application/vnd.jupyter.widget-view+json": {
       "model_id": "ad593ee9601b480983f6dccf02c467f6",
       "version_major": 2,
       "version_minor": 0
      },
      "text/plain": [
       "Render HTML:   0%|          | 0/1 [00:00<?, ?it/s]"
      ]
     },
     "metadata": {},
     "output_type": "display_data"
    },
    {
     "data": {
      "application/vnd.jupyter.widget-view+json": {
       "model_id": "286277190ec947f486260dfb905b1c50",
       "version_major": 2,
       "version_minor": 0
      },
      "text/plain": [
       "Export report to file:   0%|          | 0/1 [00:00<?, ?it/s]"
      ]
     },
     "metadata": {},
     "output_type": "display_data"
    }
   ],
   "source": [
    "profile.to_file(\"data/dataset_exploration_lyrics_title_column.html\")"
   ]
  },
  {
   "cell_type": "code",
   "execution_count": null,
   "metadata": {},
   "outputs": [],
   "source": [
    "profile.to_file(\"data/song_lyrics_report.html\")"
   ]
  },
  {
   "cell_type": "code",
   "execution_count": null,
   "metadata": {},
   "outputs": [],
   "source": [
    "#Print le pourcentage de titre unique\n",
    "print(\"Pourcentage de titre unique : \", data['title'].nunique() / data['title'].count() * 100, \"%\")"
   ]
  },
  {
   "cell_type": "code",
   "execution_count": null,
   "metadata": {},
   "outputs": [],
   "source": [
    "# Convert the values in the 'title' column to strings\n",
    "data['title'] = data['title'].astype(str)\n",
    "\n",
    "# Calcul la mediane de la longueur des titres\n",
    "print(\"Median de la longueur des titres : \", data['title'].str.len().median())\n",
    "# Calcul la moyenne de la longueur des titres\n",
    "print(\"Moyenne de la longueur des titres : \", data['title'].str.len().mean())\n",
    "# Print le plus long titre avec sa longueur\n",
    "print(\"Le plus long titre : \", data['title'].str.len().max())\n",
    "print(\"Le titre : \", data['title'][data['title'].str.len().idxmax()])\n",
    "# Print le nombre de caractères unique utilisés dans les titres\n",
    "print(\"Nombre de caractères unique utilisés dans les titres : \", len(set(\"\".join(data['title']))))"
   ]
  },
  {
   "cell_type": "code",
   "execution_count": null,
   "metadata": {},
   "outputs": [],
   "source": [
    "#print dans une liste tous les caractères utilisés dans les titres\n",
    "print(\"Liste de tous les caractères utilisés dans les titres : \", list(set(\"\".join(data['title']))))\n",
    "#Filtre pour garder seulement les lignes avec des titres avec des caractères de la table ASCII\n",
    "data2 = data[data['title'].str.match(r'^[\\x00-\\x7F]*$')]\n",
    "#Calcul le pourcentage de lignes gardées\n",
    "print(\"Pourcentage de lignes gardées : \", data2['title'].count() / data['title'].count() * 100, \"%\")\n",
    "#Print le nombre de caractères unique utilisés dans les titres\n",
    "print(\"Nombre de caractères unique utilisés dans les titres : \", len(set(\"\".join(data2['title']))))\n",
    "# Print la liste de tous les caractères utilisés dans les titres\n",
    "print(\"Liste de tous les caractères utilisés dans les titres : \", list(set(\"\".join(data2['title']))))"
   ]
  }
 ],
 "metadata": {
  "kernelspec": {
   "display_name": "base",
   "language": "python",
   "name": "python3"
  },
  "language_info": {
   "codemirror_mode": {
    "name": "ipython",
    "version": 3
   },
   "file_extension": ".py",
   "mimetype": "text/x-python",
   "name": "python",
   "nbconvert_exporter": "python",
   "pygments_lexer": "ipython3",
   "version": "3.11.7"
  }
 },
 "nbformat": 4,
 "nbformat_minor": 2
}
